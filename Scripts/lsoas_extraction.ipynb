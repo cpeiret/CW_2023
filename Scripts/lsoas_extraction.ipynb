{
 "cells": [
  {
   "cell_type": "code",
   "execution_count": 40,
   "metadata": {},
   "outputs": [],
   "source": [
    "## Libraries and setup\n",
    "# !pip install diagonal_b6\n",
    "import diagonal_b6 as b6\n",
    "import os\n",
    "import json\n",
    "\n",
    "\n",
    "# get working directory\n",
    "working_directory =  os.getcwd()\n",
    "\n",
    "# connect to the Bedrock engine\n",
    "w = b6.connect_insecure(\"cdtweek-2023.diagonal.works:8002\")"
   ]
  },
  {
   "cell_type": "code",
   "execution_count": 41,
   "metadata": {},
   "outputs": [],
   "source": [
    "## get lsoas\n",
    "# get Bedrock data for Liverpool study area\n",
    "liverpool = b6.cap_polygon(b6.ll(53.4127,-2.9608), 12000)\n",
    "\n",
    "# get lsoas\n",
    "lsoas = b6.find(b6.and_(b6.tagged(\"#boundary\", \"lsoa\"), b6.intersecting(liverpool)))\n",
    "\n",
    "# export lsoas as geojson\n",
    "lsoas_geojson = w( b6.to_geojson_collection(lsoas) ) "
   ]
  },
  {
   "cell_type": "code",
   "execution_count": 42,
   "metadata": {},
   "outputs": [],
   "source": [
    "## export lsoas to geojson\n",
    "\n",
    "# get data direcotry and set filename\n",
    "filename = \"lsoas.geojson\"\n",
    "data_directory = working_directory.replace('Scripts', 'Data')\n",
    "\n",
    "# Create any missing directories in the filepath\n",
    "os.makedirs(data_directory, exist_ok=True)\n",
    "\n",
    "# Convert the dictionary object to a string\n",
    "lsoas_geojson_str = json.dumps(lsoas_geojson)\n",
    "\n",
    "# Write the string variable to the file\n",
    "with open(os.path.join(data_directory, filename), \"w\") as outfile:\n",
    "    outfile.write(lsoas_geojson_str)"
   ]
  }
 ],
 "metadata": {
  "kernelspec": {
   "display_name": "Python 3",
   "language": "python",
   "name": "python3"
  },
  "language_info": {
   "codemirror_mode": {
    "name": "ipython",
    "version": 3
   },
   "file_extension": ".py",
   "mimetype": "text/x-python",
   "name": "python",
   "nbconvert_exporter": "python",
   "pygments_lexer": "ipython3",
   "version": "3.11.0"
  },
  "orig_nbformat": 4,
  "vscode": {
   "interpreter": {
    "hash": "f4d73cbd7b5307861fb519b2340675bc280d3d1ea04867fa862e8c010d0f323a"
   }
  }
 },
 "nbformat": 4,
 "nbformat_minor": 2
}
