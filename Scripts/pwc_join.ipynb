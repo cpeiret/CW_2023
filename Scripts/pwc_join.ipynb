{
 "cells": [
  {
   "cell_type": "code",
   "execution_count": 79,
   "metadata": {},
   "outputs": [],
   "source": [
    "## Libraries and setup\n",
    "# !pip install diagonal_b6\n",
    "import diagonal_b6 as b6\n",
    "import os\n",
    "import json\n",
    "import geopandas as gpd\n",
    "\n",
    "\n",
    "# get working directory\n",
    "working_directory =  os.getcwd()\n",
    "\n",
    "# connect to the Bedrock engine\n",
    "w = b6.connect_insecure(\"cdtweek-2023.diagonal.works:8002\")"
   ]
  },
  {
   "cell_type": "code",
   "execution_count": 80,
   "metadata": {},
   "outputs": [],
   "source": [
    "## get lsoas\n",
    "# get Bedrock data for Liverpool study area\n",
    "liverpool = b6.cap_polygon(b6.ll(53.4127,-2.9608), 12000)\n",
    "\n",
    "# get lsoas\n",
    "lsoas = b6.find(b6.and_(b6.tagged(\"#boundary\", \"lsoa\"), b6.intersecting(liverpool)))"
   ]
  },
  {
   "cell_type": "code",
   "execution_count": 81,
   "metadata": {},
   "outputs": [],
   "source": [
    "## get pwc\n",
    "# set filenames\n",
    "filename = \"\\pwc_liverpool.geojson\"\n",
    "data_directory = working_directory.replace('Scripts', 'Data')\n",
    "\n",
    "#  create geodataframe from file\n",
    "pwc = gpd.read_file(data_directory + filename)"
   ]
  },
  {
   "cell_type": "code",
   "execution_count": 82,
   "metadata": {},
   "outputs": [],
   "source": [
    "## set up list of coordinate pairs\n",
    "pwc_coords = [(x,y) for x,y in zip(pwc['geometry'].x , pwc['geometry'].y)]"
   ]
  },
  {
   "cell_type": "code",
   "execution_count": 83,
   "metadata": {},
   "outputs": [],
   "source": [
    "## TESTING\n",
    "point_y = (-2.898789904778171)\n",
    "point_x = (53.35572392745729)\n",
    "\n",
    "# get area around every given set of pwc points\n",
    "temp_area = b6.cap_polygon(b6.ll(point_x, point_y)\n",
    "                           , 1000 # set this to your boundary distance (in meters)\n",
    "                           )\n",
    "\n",
    "# get all the amenities within the area aorund the pwc points\n",
    "# PUBS IS JUST ONE EXAMPLE!!!\n",
    "pubs = b6.find(b6.and_(b6.tagged(\"#amenity\",\"pub\"), b6.intersecting(temp_area)))\n",
    "\n",
    "# save results to geojson\n",
    "pubs_geojson = w(b6.to_geojson_collection(pubs))\n",
    "\n",
    "# save geojson to gdf\n",
    "pubs_gdf = gpd.GeoDataFrame.from_features(pubs_geojson)\n",
    "\n"
   ]
  }
 ],
 "metadata": {
  "kernelspec": {
   "display_name": "Python 3",
   "language": "python",
   "name": "python3"
  },
  "language_info": {
   "codemirror_mode": {
    "name": "ipython",
    "version": 3
   },
   "file_extension": ".py",
   "mimetype": "text/x-python",
   "name": "python",
   "nbconvert_exporter": "python",
   "pygments_lexer": "ipython3",
   "version": "3.11.0"
  },
  "orig_nbformat": 4,
  "vscode": {
   "interpreter": {
    "hash": "f4d73cbd7b5307861fb519b2340675bc280d3d1ea04867fa862e8c010d0f323a"
   }
  }
 },
 "nbformat": 4,
 "nbformat_minor": 2
}
