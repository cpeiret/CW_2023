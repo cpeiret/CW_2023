{
 "cells": [
  {
   "cell_type": "code",
   "execution_count": 37,
   "metadata": {},
   "outputs": [],
   "source": [
    "# !pip install diagonal_b6\n",
    "import diagonal_b6 as b6"
   ]
  },
  {
   "cell_type": "code",
   "execution_count": 32,
   "metadata": {},
   "outputs": [],
   "source": [
    "# get region\n",
    "w = b6.connect_insecure(\"cdtweek-2023.diagonal.works:8002\")\n",
    "liverpool = b6.cap_polygon(b6.ll(53.4127,-2.9608), 10000)"
   ]
  },
  {
   "cell_type": "code",
   "execution_count": 33,
   "metadata": {},
   "outputs": [],
   "source": [
    "# get lsoas\n",
    "lsoas = b6.find(b6.and_(b6.tagged(\"#boundary\", \"lsoa\"), b6.intersecting(liverpool)))"
   ]
  },
  {
   "cell_type": "code",
   "execution_count": 34,
   "metadata": {},
   "outputs": [
    {
     "ename": "_InactiveRpcError",
     "evalue": "<_InactiveRpcError of RPC that terminated with:\n\tstatus = StatusCode.UNAVAILABLE\n\tdetails = \"failed to connect to all addresses; last error: UNAVAILABLE: ipv4:34.140.197.182:8002: WSA Error\"\n\tdebug_error_string = \"UNKNOWN:failed to connect to all addresses; last error: UNAVAILABLE: ipv4:34.140.197.182:8002: WSA Error {created_time:\"2023-04-24T14:41:14.699719222+00:00\", grpc_status:14}\"\n>",
     "output_type": "error",
     "traceback": [
      "\u001b[1;31m---------------------------------------------------------------------------\u001b[0m",
      "\u001b[1;31m_InactiveRpcError\u001b[0m                         Traceback (most recent call last)",
      "Cell \u001b[1;32mIn[34], line 2\u001b[0m\n\u001b[0;32m      1\u001b[0m \u001b[39m# print population per lsoas\u001b[39;00m\n\u001b[1;32m----> 2\u001b[0m \u001b[39mprint\u001b[39m([population \u001b[39mfor\u001b[39;00m id_, population \u001b[39min\u001b[39;00m w(lsoas\u001b[39m.\u001b[39;49mget_int(\u001b[39m\"\u001b[39;49m\u001b[39mmid_2019_population\u001b[39;49m\u001b[39m\"\u001b[39;49m))])\n",
      "File \u001b[1;32mc:\\Users\\b8008458\\Anaconda3\\envs\\clean_ox\\Lib\\site-packages\\diagonal_b6\\connect.py:19\u001b[0m, in \u001b[0;36mConnection.__call__\u001b[1;34m(self, e)\u001b[0m\n\u001b[0;32m     17\u001b[0m request \u001b[39m=\u001b[39m api_pb2\u001b[39m.\u001b[39mEvaluateRequestProto()\n\u001b[0;32m     18\u001b[0m request\u001b[39m.\u001b[39mrequest\u001b[39m.\u001b[39mCopyFrom(expression\u001b[39m.\u001b[39mto_node_proto(e))\n\u001b[1;32m---> 19\u001b[0m \u001b[39mreturn\u001b[39;00m expression\u001b[39m.\u001b[39mfrom_node_proto(\u001b[39mself\u001b[39;49m\u001b[39m.\u001b[39;49mstub\u001b[39m.\u001b[39;49mEvaluate(request)\u001b[39m.\u001b[39mresult)\n",
      "File \u001b[1;32mc:\\Users\\b8008458\\Anaconda3\\envs\\clean_ox\\Lib\\site-packages\\grpc\\_channel.py:1030\u001b[0m, in \u001b[0;36m_UnaryUnaryMultiCallable.__call__\u001b[1;34m(self, request, timeout, metadata, credentials, wait_for_ready, compression)\u001b[0m\n\u001b[0;32m   1021\u001b[0m \u001b[39mdef\u001b[39;00m \u001b[39m__call__\u001b[39m(\u001b[39mself\u001b[39m,\n\u001b[0;32m   1022\u001b[0m              request: Any,\n\u001b[0;32m   1023\u001b[0m              timeout: Optional[\u001b[39mfloat\u001b[39m] \u001b[39m=\u001b[39m \u001b[39mNone\u001b[39;00m,\n\u001b[1;32m   (...)\u001b[0m\n\u001b[0;32m   1026\u001b[0m              wait_for_ready: Optional[\u001b[39mbool\u001b[39m] \u001b[39m=\u001b[39m \u001b[39mNone\u001b[39;00m,\n\u001b[0;32m   1027\u001b[0m              compression: Optional[grpc\u001b[39m.\u001b[39mCompression] \u001b[39m=\u001b[39m \u001b[39mNone\u001b[39;00m) \u001b[39m-\u001b[39m\u001b[39m>\u001b[39m Any:\n\u001b[0;32m   1028\u001b[0m     state, call, \u001b[39m=\u001b[39m \u001b[39mself\u001b[39m\u001b[39m.\u001b[39m_blocking(request, timeout, metadata, credentials,\n\u001b[0;32m   1029\u001b[0m                                   wait_for_ready, compression)\n\u001b[1;32m-> 1030\u001b[0m     \u001b[39mreturn\u001b[39;00m _end_unary_response_blocking(state, call, \u001b[39mFalse\u001b[39;49;00m, \u001b[39mNone\u001b[39;49;00m)\n",
      "File \u001b[1;32mc:\\Users\\b8008458\\Anaconda3\\envs\\clean_ox\\Lib\\site-packages\\grpc\\_channel.py:910\u001b[0m, in \u001b[0;36m_end_unary_response_blocking\u001b[1;34m(state, call, with_call, deadline)\u001b[0m\n\u001b[0;32m    908\u001b[0m         \u001b[39mreturn\u001b[39;00m state\u001b[39m.\u001b[39mresponse\n\u001b[0;32m    909\u001b[0m \u001b[39melse\u001b[39;00m:\n\u001b[1;32m--> 910\u001b[0m     \u001b[39mraise\u001b[39;00m _InactiveRpcError(state)\n",
      "\u001b[1;31m_InactiveRpcError\u001b[0m: <_InactiveRpcError of RPC that terminated with:\n\tstatus = StatusCode.UNAVAILABLE\n\tdetails = \"failed to connect to all addresses; last error: UNAVAILABLE: ipv4:34.140.197.182:8002: WSA Error\"\n\tdebug_error_string = \"UNKNOWN:failed to connect to all addresses; last error: UNAVAILABLE: ipv4:34.140.197.182:8002: WSA Error {created_time:\"2023-04-24T14:41:14.699719222+00:00\", grpc_status:14}\"\n>"
     ]
    }
   ],
   "source": [
    "# print population per lsoas\n",
    "print([population for id_, population in w(lsoas.get_int(\"mid_2019_population\"))])"
   ]
  },
  {
   "cell_type": "code",
   "execution_count": 36,
   "metadata": {},
   "outputs": [
    {
     "ename": "_InactiveRpcError",
     "evalue": "<_InactiveRpcError of RPC that terminated with:\n\tstatus = StatusCode.UNAVAILABLE\n\tdetails = \"failed to connect to all addresses; last error: UNAVAILABLE: ipv4:34.140.197.182:8002: WSA Error\"\n\tdebug_error_string = \"UNKNOWN:failed to connect to all addresses; last error: UNAVAILABLE: ipv4:34.140.197.182:8002: WSA Error {grpc_status:14, created_time:\"2023-04-24T14:49:13.372098642+00:00\"}\"\n>",
     "output_type": "error",
     "traceback": [
      "\u001b[1;31m---------------------------------------------------------------------------\u001b[0m",
      "\u001b[1;31m_InactiveRpcError\u001b[0m                         Traceback (most recent call last)",
      "Cell \u001b[1;32mIn[36], line 6\u001b[0m\n\u001b[0;32m      4\u001b[0m nottingham \u001b[39m=\u001b[39m b6\u001b[39m.\u001b[39mcap_polygon(b6\u001b[39m.\u001b[39mll(\u001b[39m52.940982\u001b[39m, \u001b[39m-\u001b[39m\u001b[39m1.1896612\u001b[39m), \u001b[39m10000\u001b[39m)\n\u001b[0;32m      5\u001b[0m lsoas \u001b[39m=\u001b[39m b6\u001b[39m.\u001b[39mfind(b6\u001b[39m.\u001b[39mand_(b6\u001b[39m.\u001b[39mtagged(\u001b[39m\"\u001b[39m\u001b[39m#boundary\u001b[39m\u001b[39m\"\u001b[39m, \u001b[39m\"\u001b[39m\u001b[39mlsoa\u001b[39m\u001b[39m\"\u001b[39m), b6\u001b[39m.\u001b[39mintersecting(nottingham)))\n\u001b[1;32m----> 6\u001b[0m \u001b[39mprint\u001b[39m([population \u001b[39mfor\u001b[39;00m id_, population \u001b[39min\u001b[39;00m w(lsoas\u001b[39m.\u001b[39;49mget_int(\u001b[39m\"\u001b[39;49m\u001b[39mmid_2019_population\u001b[39;49m\u001b[39m\"\u001b[39;49m))])\n",
      "File \u001b[1;32mc:\\Users\\b8008458\\Anaconda3\\envs\\clean_ox\\Lib\\site-packages\\diagonal_b6\\connect.py:19\u001b[0m, in \u001b[0;36mConnection.__call__\u001b[1;34m(self, e)\u001b[0m\n\u001b[0;32m     17\u001b[0m request \u001b[39m=\u001b[39m api_pb2\u001b[39m.\u001b[39mEvaluateRequestProto()\n\u001b[0;32m     18\u001b[0m request\u001b[39m.\u001b[39mrequest\u001b[39m.\u001b[39mCopyFrom(expression\u001b[39m.\u001b[39mto_node_proto(e))\n\u001b[1;32m---> 19\u001b[0m \u001b[39mreturn\u001b[39;00m expression\u001b[39m.\u001b[39mfrom_node_proto(\u001b[39mself\u001b[39;49m\u001b[39m.\u001b[39;49mstub\u001b[39m.\u001b[39;49mEvaluate(request)\u001b[39m.\u001b[39mresult)\n",
      "File \u001b[1;32mc:\\Users\\b8008458\\Anaconda3\\envs\\clean_ox\\Lib\\site-packages\\grpc\\_channel.py:1030\u001b[0m, in \u001b[0;36m_UnaryUnaryMultiCallable.__call__\u001b[1;34m(self, request, timeout, metadata, credentials, wait_for_ready, compression)\u001b[0m\n\u001b[0;32m   1021\u001b[0m \u001b[39mdef\u001b[39;00m \u001b[39m__call__\u001b[39m(\u001b[39mself\u001b[39m,\n\u001b[0;32m   1022\u001b[0m              request: Any,\n\u001b[0;32m   1023\u001b[0m              timeout: Optional[\u001b[39mfloat\u001b[39m] \u001b[39m=\u001b[39m \u001b[39mNone\u001b[39;00m,\n\u001b[1;32m   (...)\u001b[0m\n\u001b[0;32m   1026\u001b[0m              wait_for_ready: Optional[\u001b[39mbool\u001b[39m] \u001b[39m=\u001b[39m \u001b[39mNone\u001b[39;00m,\n\u001b[0;32m   1027\u001b[0m              compression: Optional[grpc\u001b[39m.\u001b[39mCompression] \u001b[39m=\u001b[39m \u001b[39mNone\u001b[39;00m) \u001b[39m-\u001b[39m\u001b[39m>\u001b[39m Any:\n\u001b[0;32m   1028\u001b[0m     state, call, \u001b[39m=\u001b[39m \u001b[39mself\u001b[39m\u001b[39m.\u001b[39m_blocking(request, timeout, metadata, credentials,\n\u001b[0;32m   1029\u001b[0m                                   wait_for_ready, compression)\n\u001b[1;32m-> 1030\u001b[0m     \u001b[39mreturn\u001b[39;00m _end_unary_response_blocking(state, call, \u001b[39mFalse\u001b[39;49;00m, \u001b[39mNone\u001b[39;49;00m)\n",
      "File \u001b[1;32mc:\\Users\\b8008458\\Anaconda3\\envs\\clean_ox\\Lib\\site-packages\\grpc\\_channel.py:910\u001b[0m, in \u001b[0;36m_end_unary_response_blocking\u001b[1;34m(state, call, with_call, deadline)\u001b[0m\n\u001b[0;32m    908\u001b[0m         \u001b[39mreturn\u001b[39;00m state\u001b[39m.\u001b[39mresponse\n\u001b[0;32m    909\u001b[0m \u001b[39melse\u001b[39;00m:\n\u001b[1;32m--> 910\u001b[0m     \u001b[39mraise\u001b[39;00m _InactiveRpcError(state)\n",
      "\u001b[1;31m_InactiveRpcError\u001b[0m: <_InactiveRpcError of RPC that terminated with:\n\tstatus = StatusCode.UNAVAILABLE\n\tdetails = \"failed to connect to all addresses; last error: UNAVAILABLE: ipv4:34.140.197.182:8002: WSA Error\"\n\tdebug_error_string = \"UNKNOWN:failed to connect to all addresses; last error: UNAVAILABLE: ipv4:34.140.197.182:8002: WSA Error {grpc_status:14, created_time:\"2023-04-24T14:49:13.372098642+00:00\"}\"\n>"
     ]
    }
   ],
   "source": [
    "import diagonal_b6 as b6\n",
    "\n",
    "w = b6.connect_insecure(\"cdtweek-2023.diagonal.works:8002\")\n",
    "nottingham = b6.cap_polygon(b6.ll(52.940982, -1.1896612), 10000)\n",
    "lsoas = b6.find(b6.and_(b6.tagged(\"#boundary\", \"lsoa\"), b6.intersecting(nottingham)))\n",
    "print([population for id_, population in w(lsoas.get_int(\"mid_2019_population\"))])"
   ]
  }
 ],
 "metadata": {
  "kernelspec": {
   "display_name": "Python 3",
   "language": "python",
   "name": "python3"
  },
  "language_info": {
   "codemirror_mode": {
    "name": "ipython",
    "version": 3
   },
   "file_extension": ".py",
   "mimetype": "text/x-python",
   "name": "python",
   "nbconvert_exporter": "python",
   "pygments_lexer": "ipython3",
   "version": "3.11.0"
  },
  "orig_nbformat": 4,
  "vscode": {
   "interpreter": {
    "hash": "f4d73cbd7b5307861fb519b2340675bc280d3d1ea04867fa862e8c010d0f323a"
   }
  }
 },
 "nbformat": 4,
 "nbformat_minor": 2
}
